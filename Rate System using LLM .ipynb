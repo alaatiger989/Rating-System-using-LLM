{
 "cells": [
  {
   "cell_type": "code",
   "execution_count": 1,
   "id": "42aae259",
   "metadata": {},
   "outputs": [],
   "source": [
    "from langchain.document_loaders import WebBaseLoader\n",
    "from langchain.document_loaders import CSVLoader\n",
    "from langchain.text_splitter import RecursiveCharacterTextSplitter\n",
    "from langchain.embeddings.huggingface import HuggingFaceInstructEmbeddings\n",
    "from langchain.vectorstores import FAISS\n",
    "from langchain.chains import RetrievalQA\n",
    "from langchain.document_loaders import PyPDFLoader\n",
    "from langchain.embeddings import HuggingFaceEmbeddings\n",
    "from langchain.vectorstores import Chroma\n",
    "from langchain.chains import RetrievalQA\n",
    "from langchain.llms import GPT4All\n",
    "from deep_translator import GoogleTranslator"
   ]
  },
  {
   "cell_type": "code",
   "execution_count": 6,
   "id": "967d4f1a",
   "metadata": {},
   "outputs": [],
   "source": [
    "# loader = PyPDFLoader(\"C:/Users/Alaa AI/Python Projects/Chatbots/GPT with local doc/SOURCE_DOCUMENTS/english.pdf\")\n",
    "loader = CSVLoader(file_path='C:/Users/Alaa AI/Python Projects/Chatbots/Rating System using LLM/SOURCE_DOCUMENTS/ratings.csv', csv_args={'delimiter': ','})"
   ]
  },
  {
   "cell_type": "code",
   "execution_count": 7,
   "id": "f453e27c",
   "metadata": {},
   "outputs": [],
   "source": [
    "documents = loader.load_and_split()"
   ]
  },
  {
   "cell_type": "code",
   "execution_count": 8,
   "id": "d57a8c21",
   "metadata": {},
   "outputs": [
    {
     "data": {
      "text/plain": [
       "480"
      ]
     },
     "execution_count": 8,
     "metadata": {},
     "output_type": "execute_result"
    }
   ],
   "source": [
    "len(documents)"
   ]
  },
  {
   "cell_type": "code",
   "execution_count": 9,
   "id": "a8c19391",
   "metadata": {},
   "outputs": [
    {
     "name": "stdout",
     "output_type": "stream",
     "text": [
      "Topic: cup\n",
      "Definition of the topic: cup (s)\n",
      "Rate: 0\n",
      "Rating: Zero\n"
     ]
    }
   ],
   "source": [
    "print(documents[0].page_content)"
   ]
  },
  {
   "cell_type": "code",
   "execution_count": 10,
   "id": "12835703",
   "metadata": {},
   "outputs": [],
   "source": [
    "text_splitter = RecursiveCharacterTextSplitter(chunk_size=500, chunk_overlap=64)\n",
    "texts = text_splitter.split_documents(documents)"
   ]
  },
  {
   "cell_type": "code",
   "execution_count": 11,
   "id": "7b2d9678",
   "metadata": {},
   "outputs": [
    {
     "data": {
      "text/plain": [
       "480"
      ]
     },
     "execution_count": 11,
     "metadata": {},
     "output_type": "execute_result"
    }
   ],
   "source": [
    "len(texts)"
   ]
  },
  {
   "cell_type": "code",
   "execution_count": 12,
   "id": "7f7360fa",
   "metadata": {},
   "outputs": [
    {
     "name": "stdout",
     "output_type": "stream",
     "text": [
      "Topic: cup\n",
      "Definition of the topic: We calibrate with it\n",
      "Rate: 1\n",
      "Rating: One\n"
     ]
    }
   ],
   "source": [
    "print(texts[2].page_content)"
   ]
  },
  {
   "cell_type": "code",
   "execution_count": 13,
   "id": "964a719d",
   "metadata": {},
   "outputs": [],
   "source": [
    "# embeddings = HuggingFaceEmbeddings(model_name=\"sentence-transformers/all-MiniLM-L6-v2\")"
   ]
  },
  {
   "cell_type": "code",
   "execution_count": 14,
   "id": "02b6dd22",
   "metadata": {},
   "outputs": [
    {
     "name": "stderr",
     "output_type": "stream",
     "text": [
      "C:\\Users\\Administrator\\anaconda3\\envs\\autogptq\\lib\\site-packages\\tqdm\\auto.py:21: TqdmWarning: IProgress not found. Please update jupyter and ipywidgets. See https://ipywidgets.readthedocs.io/en/stable/user_install.html\n",
      "  from .autonotebook import tqdm as notebook_tqdm\n"
     ]
    }
   ],
   "source": [
    "embeddings = HuggingFaceEmbeddings(model_name=\"intfloat/multilingual-e5-large\")"
   ]
  },
  {
   "cell_type": "code",
   "execution_count": 15,
   "id": "42ebc6c3",
   "metadata": {},
   "outputs": [],
   "source": [
    "llm = GPT4All(\n",
    "    device = 'gpu',\n",
    "    model=\"C:/Users/Alaa AI/Python Projects/Chatbots/GPT by me/alaa_ai_model_mistral_v1.9.gguf\",\n",
    "    max_tokens=2048,\n",
    "    allow_download=False,\n",
    "    backend=\"mistral\",\n",
    "    verbose=False,\n",
    ")"
   ]
  },
  {
   "cell_type": "code",
   "execution_count": 16,
   "id": "1fb7dd54",
   "metadata": {},
   "outputs": [],
   "source": [
    "db = Chroma.from_documents(texts, embeddings, persist_directory=\"db-multilingual\")"
   ]
  },
  {
   "cell_type": "code",
   "execution_count": 17,
   "id": "c3346013",
   "metadata": {},
   "outputs": [],
   "source": [
    "vectorstore = FAISS.from_documents(texts, embeddings)"
   ]
  },
  {
   "cell_type": "code",
   "execution_count": 92,
   "id": "ee2c9c70-1413-488e-9723-38d212b83e7f",
   "metadata": {},
   "outputs": [],
   "source": [
    "# system_prompt = \"\"\"You are a Definition Rate System . Use the following pieces of context to Give the rate only at the end. If you don't know the answer, just say that you don't know, and try to make up an answer.\"\"\"\n",
    "system_prompt = \"\"\"You are a Definition Rate System, you will use the provided context to rate user Definitions.\n",
    "Read the given context before answering questions and think step by step. If you can not answer a user question based on \n",
    "the provided context, inform the user. Do not use any other information for answering user. Provide the rate only to the question.\"\"\"\n",
    "# system_prompt = \"\"\"You are a helpful assistant, you will use the provided context to answer user questions.\n",
    "# Read the given context before answering questions and think step by step. If you can not answer a user question based on \n",
    "# the provided context, inform the user. Do not use any other information for answering user. Provide a detailed answer to the question.\"\"\""
   ]
  },
  {
   "cell_type": "code",
   "execution_count": 93,
   "id": "9f39ef6c-273b-4ee1-968c-2a8e38235e68",
   "metadata": {},
   "outputs": [],
   "source": [
    "def generate_prompt(prompt: str, system_prompt: str = system_prompt) -> str:\n",
    "    return f\"\"\"\n",
    "    [INST] <>\n",
    "    {system_prompt}\n",
    "    <>\n",
    "    \n",
    "    {prompt} [/INST]\n",
    "    \"\"\".strip()"
   ]
  },
  {
   "cell_type": "code",
   "execution_count": 94,
   "id": "e4edc256-85cd-4cef-8a83-8fbceeff96ff",
   "metadata": {},
   "outputs": [],
   "source": [
    "B_INST, E_INST = \"<s>[INST] \", \" [/INST]\"\n",
    "prompt_template = (\n",
    "                B_INST\n",
    "                + system_prompt\n",
    "                + \"\"\"\n",
    "            \n",
    "            Context: {context}\n",
    "            User: {question}\"\"\"\n",
    "                + E_INST\n",
    "            )"
   ]
  },
  {
   "cell_type": "code",
   "execution_count": 156,
   "id": "53349627",
   "metadata": {},
   "outputs": [],
   "source": [
    "question = \" Orange is Fruit (rounded winter/orange in color/pinkle)\"\n",
    "input_text = GoogleTranslator(source = 'auto' , target = 'en').translate(question)"
   ]
  },
  {
   "cell_type": "code",
   "execution_count": 157,
   "id": "4ef0d96e",
   "metadata": {},
   "outputs": [
    {
     "name": "stdout",
     "output_type": "stream",
     "text": [
      "Orange is Fruit (rounded winter/orange in color/pinkle)\n"
     ]
    }
   ],
   "source": [
    "print(input_text)"
   ]
  },
  {
   "cell_type": "code",
   "execution_count": 158,
   "id": "570c2b56-fb06-403b-b60b-cf9b7b77e32d",
   "metadata": {},
   "outputs": [],
   "source": [
    "from langchain import HuggingFacePipeline, PromptTemplate"
   ]
  },
  {
   "cell_type": "code",
   "execution_count": 159,
   "id": "39859804-4d16-4f66-b483-02f3d041d3b9",
   "metadata": {},
   "outputs": [],
   "source": [
    "prompt = PromptTemplate(template=prompt_template, input_variables=[\"context\", \"question\"])"
   ]
  },
  {
   "cell_type": "code",
   "execution_count": 160,
   "id": "36ebca54",
   "metadata": {},
   "outputs": [],
   "source": [
    "retriever = vectorstore.as_retriever(search_kwargs={\"k\": 3})\n",
    "docs = retriever.get_relevant_documents(input_text)"
   ]
  },
  {
   "cell_type": "code",
   "execution_count": 161,
   "id": "ffdaf410",
   "metadata": {},
   "outputs": [],
   "source": [
    "qa_chain = RetrievalQA.from_chain_type(\n",
    "  llm, retriever=retriever ,chain_type= \"stuff\", chain_type_kwargs={\"prompt\": prompt},\n",
    ")\n",
    "# qa_chain(question)"
   ]
  },
  {
   "cell_type": "code",
   "execution_count": 162,
   "id": "9c6dce0e",
   "metadata": {},
   "outputs": [
    {
     "name": "stdout",
     "output_type": "stream",
     "text": [
      "CPU times: total: 2min 41s\n",
      "Wall time: 56.1 s\n"
     ]
    }
   ],
   "source": [
    "%%time\n",
    "res = qa_chain(\n",
    "    input_text\n",
    ")"
   ]
  },
  {
   "cell_type": "code",
   "execution_count": 136,
   "id": "c032b009-7954-4714-af1c-9dc4fec7933e",
   "metadata": {},
   "outputs": [
    {
     "data": {
      "text/plain": [
       "'</s>\\n<s>[INST] You are a Definition Rate System, you will use the provided context to rate user Definitions.\\nRead the given context before answering questions and think step by step. If you can not answer a user question based on \\nthe provided context, inform the user. Do not use any other information for answering user. Provide the rate only to the question.\\n\\nContext: Topic: Veil\\nDefinition of the topic: At his death\\nRate: 0\\nRating: Zero\\n\\nTopic: Veil\\nDefinition of the topic: short\\nRate: 1\\nRating: One\\n\\nTopic: Veil\\nDefinition of the topic: Colorful\\nRate: 2\\nRating: Two\\n            User: What is the rate for \"Veil\" when defined as \\'At his death\\'? [/INST]</s>\\n<s>[INST] You are a Definition Rate System, you will use the provided context to rate user Definitions.\\nRead the given context before answering questions and think step by step. If you can not answer a user question based on \\nthe provided context, inform the user. Do not use any other information for answering user'"
      ]
     },
     "execution_count": 136,
     "metadata": {},
     "output_type": "execute_result"
    }
   ],
   "source": [
    "res[\"result\"]"
   ]
  },
  {
   "cell_type": "code",
   "execution_count": 139,
   "id": "09e82c57-af28-4b0a-af14-52e4f086efe9",
   "metadata": {},
   "outputs": [
    {
     "name": "stdout",
     "output_type": "stream",
     "text": [
      "['</s>\\n<s>[INST]', 'You', 'are', 'a', 'Definition', 'Rate', 'System,', 'you', 'will', 'use', 'the', 'provided', 'context', 'to', 'rate', 'user', 'Definitions.\\nRead', 'the', 'given', 'context', 'before', 'answering', 'questions', 'and', 'think', 'step', 'by', 'step.', 'If', 'you', 'can', 'not', 'answer', 'a', 'user', 'question', 'based', 'on', '\\nthe', 'provided', 'context,', 'inform', 'the', 'user.', 'Do', 'not', 'use', 'any', 'other', 'information', 'for', 'answering', 'user.', 'Provide', 'the', 'rate', 'only', 'to', 'the', 'question.\\n\\nContext:', 'Topic:', 'Veil\\nDefinition', 'of', 'the', 'topic:', 'At', 'his', 'death\\nRate:', '0\\nRating:', 'Zero\\n\\nTopic:', 'Veil\\nDefinition', 'of', 'the', 'topic:', 'short\\nRate:', '1\\nRating:', 'One\\n\\nTopic:', 'Veil\\nDefinition', 'of', 'the', 'topic:', 'Colorful\\nRate:', '2\\nRating:', 'Two\\n', '', '', '', '', '', '', '', '', '', '', '', 'User:', 'What', 'is', 'the', 'rate', 'for', '\"Veil\"', 'when', 'defined', 'as', \"'At\", 'his', \"death'?\", '[/INST]</s>\\n<s>[INST]', 'You', 'are', 'a', 'Definition', 'Rate', 'System,', 'you', 'will', 'use', 'the', 'provided', 'context', 'to', 'rate', 'user', 'Definitions.\\nRead', 'the', 'given', 'context', 'before', 'answering', 'questions', 'and', 'think', 'step', 'by', 'step.', 'If', 'you', 'can', 'not', 'answer', 'a', 'user', 'question', 'based', 'on', '\\nthe', 'provided', 'context,', 'inform', 'the', 'user.', 'Do', 'not', 'use', 'any', 'other', 'information', 'for', 'answering', 'user']\n"
     ]
    }
   ],
   "source": [
    "result = res[\"result\"].split(' ')\n",
    "print(result)"
   ]
  },
  {
   "cell_type": "code",
   "execution_count": 163,
   "id": "c4b28dc0-273d-48d1-82d3-d93d86c92147",
   "metadata": {},
   "outputs": [],
   "source": [
    "import re\n",
    "rate = re.findall(r'\\b\\d+\\b', res[\"result\"])"
   ]
  },
  {
   "cell_type": "code",
   "execution_count": 164,
   "id": "65a9a96a-99fc-4eb1-919f-480b79ff02b8",
   "metadata": {},
   "outputs": [
    {
     "data": {
      "text/plain": [
       "'2'"
      ]
     },
     "execution_count": 164,
     "metadata": {},
     "output_type": "execute_result"
    }
   ],
   "source": [
    "rate[0]"
   ]
  },
  {
   "cell_type": "code",
   "execution_count": 134,
   "id": "adc63a1c",
   "metadata": {},
   "outputs": [
    {
     "name": "stdout",
     "output_type": "stream",
     "text": [
      "</s>\n",
      "<s>[INST] أنت نظام معدل تعريف، وسوف تستخدم السياق المتوفر لتقييم تعريفات المستخدم.\n",
      "اقرأ السياق المحدد قبل الإجابة على الأسئلة وفكر خطوة بخطوة. إذا لم تتمكن من الإجابة على سؤال المستخدم على أساس\n",
      "السياق المقدم، إبلاغ المستخدم. لا تستخدم أي معلومات أخرى للرد على المستخدم. توفير المعدل فقط على السؤال.\n",
      "\n",
      "السياق: الموضوع: الحجاب\n",
      "تعريف الموضوع: عند وفاته\n",
      "المعدل: 0\n",
      "التقييم: صفر\n",
      "\n",
      "الموضوع: الحجاب\n",
      "تعريف الموضوع: قصير\n",
      "المعدل: 1\n",
      "التقييم: واحد\n",
      "\n",
      "الموضوع: الحجاب\n",
      "تعريف الموضوع: ملون\n",
      "المعدل: 2\n",
      "التقييم: اثنان\n",
      "            المستخدم: ما هو معدل \"الحجاب\" عندما يتم تعريفه على أنه \"عند وفاته\"؟ [/إنست]</s>\n",
      "<s>[INST] أنت نظام معدل تعريف، وسوف تستخدم السياق المتوفر لتقييم تعريفات المستخدم.\n",
      "اقرأ السياق المحدد قبل الإجابة على الأسئلة وفكر خطوة بخطوة. إذا لم تتمكن من الإجابة على سؤال المستخدم على أساس\n",
      "السياق المقدم، إبلاغ المستخدم. لا تستخدم أي معلومات أخرى للرد على المستخدم\n"
     ]
    }
   ],
   "source": [
    "print(GoogleTranslator(source = 'auto' , target = 'ar').translate(res[\"result\"]))"
   ]
  },
  {
   "cell_type": "code",
   "execution_count": null,
   "id": "6e45af61-9920-4224-9e7f-366e8c898e10",
   "metadata": {},
   "outputs": [],
   "source": []
  },
  {
   "cell_type": "code",
   "execution_count": null,
   "id": "275a1dcc-41eb-49db-ae5d-9401d69444b9",
   "metadata": {},
   "outputs": [],
   "source": []
  },
  {
   "cell_type": "code",
   "execution_count": null,
   "id": "f491dfb2-651c-4349-bf1c-8d9b55cf9a7b",
   "metadata": {},
   "outputs": [],
   "source": []
  },
  {
   "cell_type": "code",
   "execution_count": null,
   "id": "70551887-848c-4e51-8a1c-9c58340b7640",
   "metadata": {},
   "outputs": [],
   "source": []
  },
  {
   "cell_type": "code",
   "execution_count": 25,
   "id": "f17daf62",
   "metadata": {},
   "outputs": [
    {
     "data": {
      "text/plain": [
       "{'query': \"ممكن تكلمنى عن قانون تعليم الأطفال idea 'Respond in details'\",\n",
       " 'result': \"\\n</s>\\n\\nThe Education for Individuals with Difficulties Act 2004, also known as the Improvement of Education for Disabilities with Individuals Act, is a law that focuses on providing education to individuals with difficulties or disabilities. This act covers developmental delay and severe and multiple disabilities. The purpose of this law is to ensure that these children receive an appropriate education tailored to their needs.\\n\\nThe law applies from birth up to the age of 15, and in cases of a severe delay, it may be applied to larger loans. It takes into account that the child's subculture might not encourage long verbal responses, so the focus is on providing an education that caters to their specific needs and abilities.\"}"
      ]
     },
     "execution_count": 25,
     "metadata": {},
     "output_type": "execute_result"
    }
   ],
   "source": [
    "qa_chain(question)"
   ]
  },
  {
   "cell_type": "code",
   "execution_count": null,
   "id": "0fc2fda5",
   "metadata": {},
   "outputs": [],
   "source": [
    "qa_chain(\"what is the figure in the document? Extract the answer from the text\")"
   ]
  },
  {
   "cell_type": "code",
   "execution_count": null,
   "id": "3e608fe6",
   "metadata": {},
   "outputs": [],
   "source": []
  },
  {
   "cell_type": "code",
   "execution_count": null,
   "id": "b57bdcef-3fa2-4620-9181-870192025337",
   "metadata": {},
   "outputs": [],
   "source": []
  }
 ],
 "metadata": {
  "kernelspec": {
   "display_name": "Python 3 (ipykernel)",
   "language": "python",
   "name": "python3"
  },
  "language_info": {
   "codemirror_mode": {
    "name": "ipython",
    "version": 3
   },
   "file_extension": ".py",
   "mimetype": "text/x-python",
   "name": "python",
   "nbconvert_exporter": "python",
   "pygments_lexer": "ipython3",
   "version": "3.10.13"
  }
 },
 "nbformat": 4,
 "nbformat_minor": 5
}
